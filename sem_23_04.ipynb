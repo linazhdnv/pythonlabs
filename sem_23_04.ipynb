{
  "cells": [
    {
      "cell_type": "markdown",
      "metadata": {
        "id": "xUwhjE4akJPr"
      },
      "source": [
        "## Основы программирования в Python\n",
        "\n",
        "*Алла Тамбовцева, НИУ ВШЭ*\n",
        "\n",
        "## Семинар 4"
      ]
    },
    {
      "cell_type": "markdown",
      "metadata": {
        "id": "tlduj3S1kJPu"
      },
      "source": [
        "### Задача 1\n",
        "\n",
        "Напишите программу, которая просит пользователя ввести положительное число, и если пользователь вводит положительное число, выводит на экран сообщение \"Молодец!\", если нет ‒ \"Это не положительное число.\".\n",
        "\n",
        "Считайте, что пользователь в любом случае вводит числа, а не какой-то текст."
      ]
    },
    {
      "cell_type": "code",
      "source": [
        "n = float(input(\"Введите положительное число: \"))\n",
        "print(\"Молодец!\") if n > 0 else print(\"Это не положительное число.\")"
      ],
      "metadata": {
        "colab": {
          "base_uri": "https://localhost:8080/"
        },
        "id": "FF_3BfhGmWj8",
        "outputId": "1c3c9e14-4809-4b9b-cdde-89b09e0c7042"
      },
      "execution_count": 10,
      "outputs": [
        {
          "output_type": "stream",
          "name": "stdout",
          "text": [
            "Введите положительное число: -3.333\n",
            "Это не положительное число.\n"
          ]
        }
      ]
    },
    {
      "cell_type": "markdown",
      "metadata": {
        "id": "uGwSAHNdkJPv"
      },
      "source": [
        "### Задача 2\n",
        "\n",
        "Напишите программу, которая принимает на вход список оценок студентов от 1 до 10, выводит на экран оценку, а после нее, с новой строки, комментарий \"Плохо\", \"Удовлетворительно\", \"Хорошо\", \"Отлично\" в зависимости от оценки."
      ]
    },
    {
      "cell_type": "code",
      "source": [
        "marks = [1, 2, 3, 4, 5, 2, 5, 4]\n",
        "for mark in marks:\n",
        "    if mark == 5:\n",
        "        print(mark)\n",
        "        print(\"Отлично!\")\n",
        "    elif mark == 4:\n",
        "        print(mark)\n",
        "        print(\"Хорошо!\")\n",
        "    elif mark == 3:\n",
        "        print(mark)\n",
        "        print(\"Удовлетворительно!\")\n",
        "    else:\n",
        "        print(mark)\n",
        "        print(\"Плохо!\")"
      ],
      "metadata": {
        "colab": {
          "base_uri": "https://localhost:8080/"
        },
        "id": "H9Ojw2QiqEo1",
        "outputId": "b9e4a4ff-ded8-4255-9131-f24efb917855"
      },
      "execution_count": 21,
      "outputs": [
        {
          "output_type": "stream",
          "name": "stdout",
          "text": [
            "1\n",
            "Плохо!\n",
            "2\n",
            "Плохо!\n",
            "3\n",
            "Удовлетворительно!\n",
            "4\n",
            "Хорошо!\n",
            "5\n",
            "Отлично!\n",
            "2\n",
            "Плохо!\n",
            "5\n",
            "Отлично!\n",
            "4\n",
            "Хорошо!\n"
          ]
        }
      ]
    },
    {
      "cell_type": "markdown",
      "metadata": {
        "id": "PWT-xrxVkJPv"
      },
      "source": [
        "### Задача 3\n",
        "\n",
        "Напишите программу, которая запрашивает у пользователя пароль, и далее:\n",
        "\n",
        "- если пароль верный, выводит на экран сообщение \"Login success\".\n",
        "- если пароль неверный, выводит на экран сообщение \"Incorrect password, try again!\" до тех пор, пока пользователь не введет верный пароль."
      ]
    },
    {
      "cell_type": "code",
      "source": [
        "x = 000000\n",
        "n = int(input(\"Введите пароль: \"))\n",
        "while n != x:\n",
        "  print(\"Incorrect password, try again!\")\n",
        "  n = int(input(\"Введите пароль: \"))\n",
        "else:\n",
        "    print(\"Login success\")"
      ],
      "metadata": {
        "colab": {
          "base_uri": "https://localhost:8080/"
        },
        "id": "c81k1rBYl4pm",
        "outputId": "0b4457f1-0691-44a0-d55d-b6ec14575e22"
      },
      "execution_count": 3,
      "outputs": [
        {
          "output_type": "stream",
          "name": "stdout",
          "text": [
            "Введите пароль: 589665\n",
            "Incorrect password, try again!\n",
            "Введите пароль: 852200\n",
            "Incorrect password, try again!\n",
            "Введите пароль: 1\n",
            "Incorrect password, try again!\n",
            "Введите пароль: 000000\n",
            "Login success\n"
          ]
        }
      ]
    },
    {
      "cell_type": "markdown",
      "metadata": {
        "id": "t2Hlgs_ckJPw"
      },
      "source": [
        "### Задача 4\n",
        "\n",
        "У питона есть набор любимых чисел.\n",
        "\n",
        "    favorites = [3, 7, 11, 23, 18, 48, 81]\n",
        "\n",
        "Напишите программу, которая просит пользователя ввести целое число, и если оно нравится питону, на экран будет выводиться сообщение: \"Мое любимое число!\", если нет ‒ \"Эх, ну почему?\"."
      ]
    },
    {
      "cell_type": "code",
      "source": [
        "favorites = [3, 7, 11, 23, 18, 48, 81]\n",
        "n = int(input(\"Введите целое число: \"))\n",
        "print(\"Мое любимое число!\") if n in favorites else print(\"Эх, ну почему?\")"
      ],
      "metadata": {
        "colab": {
          "base_uri": "https://localhost:8080/"
        },
        "id": "bRIS1Ci-lt21",
        "outputId": "0961086b-3399-434e-8232-ad3ed0c0aec8"
      },
      "execution_count": 2,
      "outputs": [
        {
          "output_type": "stream",
          "name": "stdout",
          "text": [
            "Введите целое число: 18\n",
            "Мое любимое число!\n"
          ]
        }
      ]
    },
    {
      "cell_type": "markdown",
      "metadata": {
        "id": "MtC4hXddkJPw"
      },
      "source": [
        "### Задача 5\n",
        "\n",
        "Напишите программу, которая просит пользователя ввести число и, если оно чётное, выводит на экран сообщение: \"Это число чётное\", если нечётное ‒ \"Это число нечётное\"."
      ]
    },
    {
      "cell_type": "code",
      "source": [
        "n = int(input(\"Введите целое число: \"))\n",
        "print(\"Это число чётное\") if n % 2 == 0 else print(\"Это число нечётное\")"
      ],
      "metadata": {
        "colab": {
          "base_uri": "https://localhost:8080/"
        },
        "id": "I9cvB9sJlTS_",
        "outputId": "caf94237-e770-42c5-d2fb-f3dd7f224ccb"
      },
      "execution_count": 1,
      "outputs": [
        {
          "output_type": "stream",
          "name": "stdout",
          "text": [
            "Введите целое число: 5\n",
            "Это число нечётное\n"
          ]
        }
      ]
    },
    {
      "cell_type": "markdown",
      "metadata": {
        "id": "7KuJuo25kJPw"
      },
      "source": [
        "### Задача 6\n",
        "\n",
        "Напишите программу, которая просит пользователя ввести существительное, и если слово введено с большой буквы, то на экран выводится сообщение \"Это имя собственное.\", если с маленькой ‒ сообщение \"Это имя нарицательное\"."
      ]
    },
    {
      "cell_type": "code",
      "source": [
        "words = input(\"Введите имя существительное: \")\n",
        "print(\"Это имя собственное.\") if words.istitle() == True else  print(\"Это имя нарицательное.\")"
      ],
      "metadata": {
        "colab": {
          "base_uri": "https://localhost:8080/"
        },
        "id": "tB0_aLxawYiS",
        "outputId": "ba9575a8-981d-4e35-b084-edc7ea8abed0"
      },
      "execution_count": 48,
      "outputs": [
        {
          "output_type": "stream",
          "name": "stdout",
          "text": [
            "Введите имя существительное: Байкал\n",
            "Это имя собственное.\n"
          ]
        }
      ]
    }
  ],
  "metadata": {
    "kernelspec": {
      "display_name": "Python 3",
      "language": "python",
      "name": "python3"
    },
    "language_info": {
      "codemirror_mode": {
        "name": "ipython",
        "version": 3
      },
      "file_extension": ".py",
      "mimetype": "text/x-python",
      "name": "python",
      "nbconvert_exporter": "python",
      "pygments_lexer": "ipython3",
      "version": "3.6.5"
    },
    "colab": {
      "name": "sem-23-04.ipynb",
      "provenance": [],
      "collapsed_sections": []
    }
  },
  "nbformat": 4,
  "nbformat_minor": 0
}