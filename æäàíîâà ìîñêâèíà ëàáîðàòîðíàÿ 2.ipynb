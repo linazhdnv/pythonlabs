{
  "cells": [
    {
      "cell_type": "markdown",
      "metadata": {
        "id": "Wmuqg10jncVW"
      },
      "source": [
        "### Задание 0 (разминка)\n",
        "\n",
        "Даны два списка `a` и `b` (см. ниже).\n",
        "    \n",
        "1. Выведите на экран первый элемент списка `a`, третий элемент списка `a`, последний элемент списка `a`.\n",
        "2. Добавьте в список `b` элемент 7 (просто допишите в конец).\n",
        "3. Замените пятый элемент списка `a` на число 8.\n",
        "4. Создайте список `merged`, который включает в себя все элементы списка `a` и списка `b`.\n",
        "5. Создайте новый список `с`, который получается заменой последнего элемента списка `a` на число 100. Сам список `a` измениться не должен!"
      ]
    },
    {
      "cell_type": "code",
      "execution_count": null,
      "metadata": {
        "colab": {
          "base_uri": "https://localhost:8080/"
        },
        "id": "GQImPGcGncVd",
        "outputId": "bca91258-02eb-41fd-e8ef-4a3d0da40a7c"
      },
      "outputs": [
        {
          "output_type": "stream",
          "name": "stdout",
          "text": [
            "1 9 127\n"
          ]
        }
      ],
      "source": [
        "a = [1, 0, 9, 12, 18, 34, 89, 91, 33, 127]\n",
        "b = [2, 8, 9, 11, 76, 25, 44, 7]\n",
        "print(a[0], a[2], a[len(a)-1])"
      ]
    },
    {
      "cell_type": "code",
      "execution_count": null,
      "metadata": {
        "colab": {
          "base_uri": "https://localhost:8080/"
        },
        "id": "wEQdg0SancVf",
        "outputId": "e71bafd2-eb59-46d5-98da-cad35125fd1b"
      },
      "outputs": [
        {
          "output_type": "stream",
          "name": "stdout",
          "text": [
            "[1, 0, 9, 12, 8, 34, 89, 91, 33, 127]\n"
          ]
        }
      ],
      "source": [
        "a[4] = 8\n",
        "print(a)"
      ]
    },
    {
      "cell_type": "code",
      "source": [
        "merged = a + b\n",
        "print(merged)"
      ],
      "metadata": {
        "colab": {
          "base_uri": "https://localhost:8080/"
        },
        "id": "79IQXesCu2Hu",
        "outputId": "76d20aa8-35c8-470a-959e-11d349e1b793"
      },
      "execution_count": null,
      "outputs": [
        {
          "output_type": "stream",
          "name": "stdout",
          "text": [
            "[1, 0, 9, 12, 8, 34, 89, 91, 33, 127, 2, 8, 9, 11, 76, 25, 44, 7]\n"
          ]
        }
      ]
    },
    {
      "cell_type": "code",
      "source": [
        "c = a\n",
        "c[-1] = 100\n",
        "print(c)"
      ],
      "metadata": {
        "colab": {
          "base_uri": "https://localhost:8080/"
        },
        "id": "HIUkgsrWvUPu",
        "outputId": "3db54f28-f47a-4141-c5da-e5b5ec5d29b0"
      },
      "execution_count": null,
      "outputs": [
        {
          "output_type": "stream",
          "name": "stdout",
          "text": [
            "[1, 0, 9, 12, 8, 34, 89, 91, 33, 100]\n"
          ]
        }
      ]
    },
    {
      "cell_type": "markdown",
      "metadata": {
        "id": "_0mB8xN0ncVf"
      },
      "source": [
        "### Задание 1 (девочковое)\n",
        "\n",
        "Есть список имен:"
      ]
    },
    {
      "cell_type": "code",
      "execution_count": null,
      "metadata": {
        "id": "2svb0OAhncVg"
      },
      "outputs": [],
      "source": [
        "girls = [\"Иветта\", \"Виолетта\", \"Кассандра\", \"Вирджиния\", \n",
        "         \"Амелия\", \"Розамунда\", \"Янина\", \"Беатриса\"]"
      ]
    },
    {
      "cell_type": "markdown",
      "metadata": {
        "id": "7XmGNDJ3ncVh"
      },
      "source": [
        "Используя список `girls`, выведите на экран следующие списки:\n",
        "\n",
        "    [\"Виолетта\", \"Кассандра\", \"Вирджиния\", \"Амелия\"]\n",
        "    [\"Вирджиния\", \"Амелия\", \"Розамунда\", \"Янина\", \"Беатриса\"]\n",
        "    [\"Иветта\", \"Виолетта\", \"Вирджиния\", \"Амелия\"]\n",
        "    [\"Кассандра\", \"Амелия\", \"Розамунда\"]"
      ]
    },
    {
      "cell_type": "code",
      "execution_count": null,
      "metadata": {
        "colab": {
          "base_uri": "https://localhost:8080/"
        },
        "id": "w9GIST4QncVh",
        "outputId": "71a08b9a-34f8-45ba-c7e5-95eda75b709b"
      },
      "outputs": [
        {
          "output_type": "stream",
          "name": "stdout",
          "text": [
            "['Виолетта', 'Кассандра', 'Вирджиния', 'Амелия']\n"
          ]
        }
      ],
      "source": [
        "print(girls[1:5])"
      ]
    },
    {
      "cell_type": "code",
      "source": [
        "print(girls[3:])"
      ],
      "metadata": {
        "colab": {
          "base_uri": "https://localhost:8080/"
        },
        "id": "S21F-9NPwE5d",
        "outputId": "2e4c1d67-abe1-45dd-c3d4-cf44968ae85e"
      },
      "execution_count": null,
      "outputs": [
        {
          "output_type": "stream",
          "name": "stdout",
          "text": [
            "['Вирджиния', 'Амелия', 'Розамунда', 'Янина', 'Беатриса']\n"
          ]
        }
      ]
    },
    {
      "cell_type": "code",
      "source": [
        "girls[0:2]+girls[3:5]"
      ],
      "metadata": {
        "colab": {
          "base_uri": "https://localhost:8080/"
        },
        "id": "QTZBYikIwM2U",
        "outputId": "f2b97680-fdce-4639-dec2-070e256a851f"
      },
      "execution_count": null,
      "outputs": [
        {
          "output_type": "execute_result",
          "data": {
            "text/plain": [
              "['Иветта', 'Виолетта', 'Вирджиния', 'Амелия']"
            ]
          },
          "metadata": {},
          "execution_count": 8
        }
      ]
    },
    {
      "cell_type": "code",
      "source": [
        "girls[2:3]+girls[4:5]+girls[5:6]"
      ],
      "metadata": {
        "colab": {
          "base_uri": "https://localhost:8080/"
        },
        "id": "MDcuWFw7xa-V",
        "outputId": "13aa070e-12bc-4030-dd2c-479c896e951d"
      },
      "execution_count": null,
      "outputs": [
        {
          "output_type": "execute_result",
          "data": {
            "text/plain": [
              "['Кассандра', 'Амелия', 'Розамунда']"
            ]
          },
          "metadata": {},
          "execution_count": 9
        }
      ]
    },
    {
      "cell_type": "markdown",
      "metadata": {
        "id": "cHEDPOKencVj"
      },
      "source": [
        "### Задание 2 (поэлементное) \n",
        "\n",
        "Дан список `L`. Выведите на экран (последовательно, с новой строчки): \n",
        "\n",
        "* все элементы списка `L`\n",
        "* логарифмированные значения элементов списка `L`"
      ]
    },
    {
      "cell_type": "code",
      "execution_count": null,
      "metadata": {
        "id": "Bqc2C3H1ncVk"
      },
      "outputs": [],
      "source": [
        "L = [12, 3, 8, 125, 10, 98, 54, 199]"
      ]
    },
    {
      "cell_type": "code",
      "execution_count": null,
      "metadata": {
        "id": "EXe16KbxncVl",
        "colab": {
          "base_uri": "https://localhost:8080/"
        },
        "outputId": "2206343b-bfe8-45b4-ada6-5fcc4aa420f7"
      },
      "outputs": [
        {
          "output_type": "stream",
          "name": "stdout",
          "text": [
            "12\n",
            "3\n",
            "8\n",
            "125\n",
            "10\n",
            "98\n",
            "54\n",
            "199\n"
          ]
        }
      ],
      "source": [
        "for i in L:\n",
        "    print(i)"
      ]
    },
    {
      "cell_type": "code",
      "source": [
        "from math import log\n",
        "L = [12, 3, 8, 125, 10, 98, 54, 199]\n",
        "L2 = []\n",
        "for i in L:\n",
        "    L2.append(log (i)) \n",
        "for i in L2:\n",
        "    print(i)"
      ],
      "metadata": {
        "id": "V633FJQCyruV",
        "colab": {
          "base_uri": "https://localhost:8080/"
        },
        "outputId": "f93b5e20-5a1e-4d0d-a52e-5dcd0a1ef81f"
      },
      "execution_count": 50,
      "outputs": [
        {
          "output_type": "stream",
          "name": "stdout",
          "text": [
            "2.4849066497880004\n",
            "1.0986122886681098\n",
            "2.0794415416798357\n",
            "4.8283137373023015\n",
            "2.302585092994046\n",
            "4.584967478670572\n",
            "3.9889840465642745\n",
            "5.293304824724492\n"
          ]
        }
      ]
    },
    {
      "cell_type": "code",
      "source": [
        "L = [12, 3, 8, 125, 10, 98, 54, 199]\n",
        "L[4]=0\n",
        "for i in L:\n",
        "    print(i)"
      ],
      "metadata": {
        "colab": {
          "base_uri": "https://localhost:8080/"
        },
        "id": "IRwzg0pDP6gF",
        "outputId": "ab56498b-e82f-48fe-9aea-602680fb30ce"
      },
      "execution_count": null,
      "outputs": [
        {
          "output_type": "stream",
          "name": "stdout",
          "text": [
            "12\n",
            "3\n",
            "8\n",
            "125\n",
            "0\n",
            "98\n",
            "54\n",
            "199\n"
          ]
        }
      ]
    },
    {
      "cell_type": "code",
      "source": [
        "from math import log\n",
        "L = [12, 3, 8, 125, 0, 98, 54, 199]\n",
        "L2 = []\n",
        "for i in L:\n",
        "    L2.append(log (i)) \n",
        "for i in L2:\n",
        "    print(i)"
      ],
      "metadata": {
        "colab": {
          "base_uri": "https://localhost:8080/",
          "height": 235
        },
        "id": "pSOyxo0HQTzr",
        "outputId": "43ec27a3-bb19-4e91-d99d-3c020ba7568a"
      },
      "execution_count": 51,
      "outputs": [
        {
          "output_type": "error",
          "ename": "ValueError",
          "evalue": "ignored",
          "traceback": [
            "\u001b[0;31m---------------------------------------------------------------------------\u001b[0m",
            "\u001b[0;31mValueError\u001b[0m                                Traceback (most recent call last)",
            "\u001b[0;32m<ipython-input-51-5c2957aab315>\u001b[0m in \u001b[0;36m<module>\u001b[0;34m()\u001b[0m\n\u001b[1;32m      3\u001b[0m \u001b[0mL2\u001b[0m \u001b[0;34m=\u001b[0m \u001b[0;34m[\u001b[0m\u001b[0;34m]\u001b[0m\u001b[0;34m\u001b[0m\u001b[0;34m\u001b[0m\u001b[0m\n\u001b[1;32m      4\u001b[0m \u001b[0;32mfor\u001b[0m \u001b[0mi\u001b[0m \u001b[0;32min\u001b[0m \u001b[0mL\u001b[0m\u001b[0;34m:\u001b[0m\u001b[0;34m\u001b[0m\u001b[0;34m\u001b[0m\u001b[0m\n\u001b[0;32m----> 5\u001b[0;31m     \u001b[0mL2\u001b[0m\u001b[0;34m.\u001b[0m\u001b[0mappend\u001b[0m\u001b[0;34m(\u001b[0m\u001b[0mlog\u001b[0m \u001b[0;34m(\u001b[0m\u001b[0mi\u001b[0m\u001b[0;34m)\u001b[0m\u001b[0;34m)\u001b[0m\u001b[0;34m\u001b[0m\u001b[0;34m\u001b[0m\u001b[0m\n\u001b[0m\u001b[1;32m      6\u001b[0m \u001b[0;32mfor\u001b[0m \u001b[0mi\u001b[0m \u001b[0;32min\u001b[0m \u001b[0mL2\u001b[0m\u001b[0;34m:\u001b[0m\u001b[0;34m\u001b[0m\u001b[0;34m\u001b[0m\u001b[0m\n\u001b[1;32m      7\u001b[0m     \u001b[0mprint\u001b[0m\u001b[0;34m(\u001b[0m\u001b[0mi\u001b[0m\u001b[0;34m)\u001b[0m\u001b[0;34m\u001b[0m\u001b[0;34m\u001b[0m\u001b[0m\n",
            "\u001b[0;31mValueError\u001b[0m: math domain error"
          ]
        }
      ]
    },
    {
      "cell_type": "markdown",
      "metadata": {
        "id": "0uW609IOncVl"
      },
      "source": [
        "Замените пятый элемент списка `L` на 0. Проделайте те же операции, что и раньше. Объясните, почему получаются такие результаты."
      ]
    },
    {
      "cell_type": "markdown",
      "metadata": {
        "id": "YIqCke8JncVm"
      },
      "source": [
        "### Задание 3 (демографическое)\n",
        "\n",
        "В списке `age` сохранены значения возраста респондентов: \n",
        "\n",
        "    age = [24, 35, 42, 27, 45, 48, 33]\n",
        "    \n",
        "Создайте список `age2`, в котором будут храниться значения возраста, возведенные в квадрат.\n",
        "\n",
        "**Подсказка:** используйте цикл *for*."
      ]
    },
    {
      "cell_type": "code",
      "execution_count": null,
      "metadata": {
        "id": "j63rJVfWncVm"
      },
      "outputs": [],
      "source": [
        "age = [24, 35, 42, 27, 45, 48, 33]\n",
        "age1 = []"
      ]
    },
    {
      "cell_type": "code",
      "execution_count": null,
      "metadata": {
        "id": "2nHkjosencVn",
        "outputId": "e9f580d0-2d06-48d5-fd32-ce12e52854cb",
        "colab": {
          "base_uri": "https://localhost:8080/"
        }
      },
      "outputs": [
        {
          "output_type": "stream",
          "name": "stdout",
          "text": [
            "24\n",
            "35\n",
            "42\n",
            "27\n",
            "45\n",
            "48\n",
            "33\n"
          ]
        }
      ],
      "source": [
        "for i in age:\n",
        "    age1.append(i*i)\n",
        "    print(i)"
      ]
    },
    {
      "cell_type": "code",
      "source": [
        "age = [24, 35, 42, 27, 45, 48, 33]\n",
        "age2 = []\n",
        "for i in age:\n",
        "    age2.append(i* i) \n",
        "print(age2)\n"
      ],
      "metadata": {
        "colab": {
          "base_uri": "https://localhost:8080/"
        },
        "id": "3y_ftWVi5QmT",
        "outputId": "a069ff23-7a6c-4994-d4c5-83a7470ba995"
      },
      "execution_count": null,
      "outputs": [
        {
          "output_type": "stream",
          "name": "stdout",
          "text": [
            "[576, 1225, 1764, 729, 2025, 2304, 1089]\n"
          ]
        }
      ]
    },
    {
      "cell_type": "markdown",
      "metadata": {
        "id": "KjcX2yt6ncVn"
      },
      "source": [
        "### Задание 4 (игровое)\n",
        "\n",
        "Питон просит пользователя загадать (ввести с клавиатуры) целое число $k$ от 1 до 10. Питон берет это число $k$ и выводит на экран $k$-тый элемент списка `numbers`, причем $k$-ый элемент в привычном понимании, в нумерации, которая начинается с единицы.  \n",
        "\n",
        "Список `numbers`:"
      ]
    },
    {
      "cell_type": "code",
      "execution_count": null,
      "metadata": {
        "id": "8hnGDy_rncVo"
      },
      "outputs": [],
      "source": [
        "numbers = [1, 5, 6, 8, 10, 21, 25, 1, 0, -9, 9]"
      ]
    },
    {
      "cell_type": "code",
      "source": [
        "n = int(input(\"Введите целое число от 1 до 10: \"))\n",
        "x=numbers[n-1]\n",
        "print(x)"
      ],
      "metadata": {
        "colab": {
          "base_uri": "https://localhost:8080/"
        },
        "id": "TEpS--EV9Oh7",
        "outputId": "6c76e804-7660-4f68-8513-f6edf149a517"
      },
      "execution_count": null,
      "outputs": [
        {
          "output_type": "stream",
          "name": "stdout",
          "text": [
            "Введите целое число от 1 до 10: 3\n",
            "6\n"
          ]
        }
      ]
    },
    {
      "cell_type": "markdown",
      "metadata": {
        "id": "KPmzj3idncVp"
      },
      "source": [
        "**Пояснение:**\n",
        "    \n",
        "*Входные данные:*\n",
        "\n",
        "    Введите целое число от 1 до 10: 3\n",
        "    \n",
        "*Выходные данные:*\n",
        "\n",
        "    6"
      ]
    },
    {
      "cell_type": "markdown",
      "metadata": {
        "id": "gvFrPHGKncVq"
      },
      "source": [
        "### Задание 5 (числовое)\n",
        "\n",
        "У питона есть набор любимых чисел.\n",
        "\n",
        "    favorites = [3, 7, 11, 23, 18, 48, 81]\n",
        "\n",
        "Напишите программу, которая просит пользователя ввести целое число, и если оно нравится питону, на экран будет выводиться сообщение: \"Мое любимое число!\", если нет ‒ \"Эх, ну почему?\".\n",
        "\n",
        "*Подсказка:* чтобы проверить, принадлежит ли некоторый объект элементам списка, можно воспользоваться оператором *in*."
      ]
    },
    {
      "cell_type": "code",
      "source": [
        "favorites = [3, 7, 11, 23, 18, 48, 81]\n",
        "n = int(input(\"Введите целое число: \"))\n",
        "print(\"Мое любимое число!\") if n in favorites else print(\"Эх, ну почему?\")\n",
        "\n",
        "\n",
        "\n"
      ],
      "metadata": {
        "colab": {
          "base_uri": "https://localhost:8080/"
        },
        "id": "5lPJ2XSV-pKS",
        "outputId": "2600ee96-f961-4984-ae9f-14d520e0fbb2"
      },
      "execution_count": null,
      "outputs": [
        {
          "output_type": "stream",
          "name": "stdout",
          "text": [
            "Введите целое число: 7\n",
            "Мое любимое число!\n"
          ]
        }
      ]
    },
    {
      "cell_type": "markdown",
      "metadata": {
        "id": "8KL3fx6RncVr"
      },
      "source": [
        "### Задание 6 (четное)\n",
        "\n",
        "Напишите программу, которая просит пользователя ввести число и, если оно чётное, выводит на экран сообщение: \"Это число чётное\", если нечётное ‒ \"Это число нечётное\".\n",
        "\n",
        "*Подсказка:* используйте оператор `%` для определения остатка от деления."
      ]
    },
    {
      "cell_type": "code",
      "source": [
        "n = int(input(\"Введите целое число: \"))\n",
        "print(\"Это число чётное\") if n % 2 == 0 else print(\"Это число нечётное\")"
      ],
      "metadata": {
        "colab": {
          "base_uri": "https://localhost:8080/"
        },
        "id": "hFv5SjDvCDKg",
        "outputId": "8d52ef53-dca1-4cd1-daf0-0b0d23d993a2"
      },
      "execution_count": null,
      "outputs": [
        {
          "output_type": "stream",
          "name": "stdout",
          "text": [
            "Введите целое число: 1\n",
            "Это число нечётное\n"
          ]
        }
      ]
    },
    {
      "cell_type": "markdown",
      "metadata": {
        "id": "de9X27eWncVr"
      },
      "source": [
        "### Задание 7 (музыкальное)\n",
        "\n",
        "Напишите программу, которая принимает на вход список слов такого вида:\n",
        "\n",
        "    words = [\"Speak \",\"to\", \"me \", \"of\", \"Florence\" ,\"And \", \"of\", \"the\", \"Renaissance\"]\n",
        "\n",
        "а возвращает список\n",
        "\n",
        "    words_clean = [\"speak\", \"to\", \"me\", \"of\", \"florence\", \"and\", \"of\", \"the\", \"renaissance\"]\n",
        "\n",
        "Другими словами, программа убирает пробелы в словах и приводит все слова к нижнему регистру. Эту задачу можно решить через циклы, но в Python есть такая полезная вещь как списковые включения. Они работают быстрее, чем циклы, и создавать новые списки на основе старых очень удобно. Прочитать про них можно [здесь](http://pythontutor.ru/lessons/lists/#section_3) и [здесь](https://nbviewer.jupyter.org/github/allatambov/Py-programming-3/blob/master/20-04/lecture-lists-contd.ipynb).\n",
        "\n",
        "**Подсказка:** запросите `help()`  по  методам `.strip()` и `.lower()`."
      ]
    },
    {
      "cell_type": "code",
      "source": [
        "words = input(\"Введите нужные слова через запятую: \")\n",
        "word = words.split(',')\n",
        "worda = [n.strip(\" \") for n in word]\n",
        "word_clean = [n.lower() for n in worda]\n",
        "word_clean"
      ],
      "metadata": {
        "colab": {
          "base_uri": "https://localhost:8080/"
        },
        "id": "jTWpwYrcroWL",
        "outputId": "ad1ee8f8-769d-4b8b-82db-77e9a8221503"
      },
      "execution_count": 49,
      "outputs": [
        {
          "name": "stdout",
          "output_type": "stream",
          "text": [
            "Введите нужные слова через запятую: Мама, Папа   ,   Брат\n"
          ]
        },
        {
          "output_type": "execute_result",
          "data": {
            "text/plain": [
              "['мама', 'папа', 'брат']"
            ]
          },
          "metadata": {},
          "execution_count": 49
        }
      ]
    },
    {
      "cell_type": "markdown",
      "metadata": {
        "id": "hz2cLE0lncVs"
      },
      "source": [
        "### Задание 8 (секретное)\n",
        "\n",
        "Напишите программу, которая запрашивает у пользователя пароль, и далее:\n",
        "\n",
        "- если пароль верный, выводит на экран сообщение \"Login success\".\n",
        "- если пароль неверный, выводит на экран сообщение \"Incorrect password, try again!\" до тех пор, пока пользователь не введет верный пароль.\n",
        "\n",
        "Считайте, что верный пароль программе известен, то есть уже сохранен в некоторой переменной. "
      ]
    },
    {
      "cell_type": "code",
      "source": [
        "x = 000000\n",
        "n = int(input(\"Введите пароль: \"))\n",
        "while n != x:\n",
        "  print(\"Incorrect password, try again!\")\n",
        "  n = int(input(\"Введите пароль: \"))\n",
        "else:\n",
        "    print(\"Login success\")"
      ],
      "metadata": {
        "colab": {
          "base_uri": "https://localhost:8080/"
        },
        "id": "m-ikjSmVHzfi",
        "outputId": "b0b423f5-e830-494a-a449-30b5cb144d57"
      },
      "execution_count": null,
      "outputs": [
        {
          "output_type": "stream",
          "name": "stdout",
          "text": [
            "Введите пароль: 111256\n",
            "Incorrect password, try again!\n",
            "Введите пароль: 000004\n",
            "Incorrect password, try again!\n",
            "Введите пароль: 000000\n",
            "Login success\n"
          ]
        }
      ]
    },
    {
      "cell_type": "markdown",
      "metadata": {
        "id": "2GcesFIfncVt"
      },
      "source": [
        "### Задание 9 (функциональное)\n",
        "\n",
        "Напишите функцию `nums()`, которая принимает на вход целое число, а возвращает список из двух элементов: целое число, предшествующее принятому на вход, и число, следующее за ним.\n",
        "\n",
        "**Пример:**\n",
        "\n",
        "*Входные данные:*\n",
        "\n",
        "    7\n",
        "\n",
        "*Выходные данные:*\n",
        "\n",
        "    [6, 8]"
      ]
    },
    {
      "cell_type": "code",
      "source": [
        "n = int(input(\"Введите целое число: \"))\n",
        "a = n-1\n",
        "b = n+1\n",
        "c = [a, b]\n",
        "print(c)"
      ],
      "metadata": {
        "colab": {
          "base_uri": "https://localhost:8080/"
        },
        "id": "gGk2m2z1PKEd",
        "outputId": "0a5302d4-e4f7-4bf7-eb0d-e372bcfb21f4"
      },
      "execution_count": null,
      "outputs": [
        {
          "output_type": "stream",
          "name": "stdout",
          "text": [
            "Введите целое число: 18\n",
            "[17, 19]\n"
          ]
        }
      ]
    },
    {
      "cell_type": "markdown",
      "metadata": {
        "id": "XIV95EGPncVt"
      },
      "source": [
        "### Задание 10 (счетное)\n",
        "\n",
        "Напишите функцию `my_log()`, которая принимает на вход список чисел, и возвращает список их натуральных логарифмов. Если число меньше или равно 0, на его месте в возвращаемом списке должно быть None.\n",
        "\n",
        "**Пример:**\n",
        "\n",
        "*Входные данные:*\n",
        "\n",
        "    [1, 3, 2.5, -1, 9, 0, 2.71]\n",
        "\n",
        "*Выходные данные:*\n",
        "\n",
        "    [0.0,\n",
        "     1.0986122886681098,\n",
        "     0.9162907318741551,\n",
        "     None,\n",
        "     2.1972245773362196,\n",
        "     None,\n",
        "     0.9969486348916096]"
      ]
    },
    {
      "cell_type": "code",
      "source": [
        "numbers = input(\"Введите числа: \")\n",
        "number = numbers.split()\n",
        "numbera = []\n",
        "\n",
        "for n in number:\n",
        "  numbera.append(float(n))\n",
        "numbera\n",
        "\n"
      ],
      "metadata": {
        "colab": {
          "base_uri": "https://localhost:8080/"
        },
        "id": "otsMOofnyJNb",
        "outputId": "e5a6bcd1-944f-4c74-f315-3309cd6814a1"
      },
      "execution_count": 57,
      "outputs": [
        {
          "name": "stdout",
          "output_type": "stream",
          "text": [
            "Введите числа: 5 4.2 1 0 -5 -7\n"
          ]
        },
        {
          "output_type": "execute_result",
          "data": {
            "text/plain": [
              "[5.0, 4.2, 1.0, 0.0, -5.0, -7.0]"
            ]
          },
          "metadata": {},
          "execution_count": 57
        }
      ]
    },
    {
      "cell_type": "code",
      "source": [
        "from math import log\n",
        "L = numbera\n",
        "L1 = []\n",
        "for i in L:\n",
        "    L1.append(log(i)) if i > 0 else L1.append('NONE')\n",
        "for i in L1:\n",
        "    print(i)\n"
      ],
      "metadata": {
        "colab": {
          "base_uri": "https://localhost:8080/"
        },
        "id": "MIH7MjCF3ppC",
        "outputId": "6318429f-d62d-4986-b0a9-73de11b788dd"
      },
      "execution_count": 88,
      "outputs": [
        {
          "output_type": "stream",
          "name": "stdout",
          "text": [
            "1.6094379124341003\n",
            "1.4350845252893227\n",
            "0.0\n",
            "NONE\n",
            "NONE\n",
            "NONE\n"
          ]
        }
      ]
    },
    {
      "cell_type": "markdown",
      "metadata": {
        "id": "hvwLyTPOncVu"
      },
      "source": [
        "### Задание 11 (зимнее)\n",
        "\n",
        "Напишите функцию `str_lower()`, которая принимает на вход строку (набор слов через пробел), а возвращает список ее элементов в нижнем регистре. \n",
        "\n",
        "**Пример:**\n",
        "\n",
        "*Входные данные:*\n",
        "\n",
        "    \"В лесу родилась ёлочка В лесу она росла\"\n",
        "\n",
        "*Выходные данные:*\n",
        "\n",
        "    ['в', 'лесу', 'родилась', 'ёлочка', 'в', 'лесу', 'она', 'росла']\n",
        "    \n",
        "*Подсказка:* для разбиение строки на части, познакомьтесь с методом `.split()` – запросите по нему `help()`."
      ]
    },
    {
      "cell_type": "code",
      "source": [
        "words = input(\"Введите слова: \")\n",
        "word = words.split()\n",
        "word_clean = [n.lower() for n in word]\n",
        "word_clean"
      ],
      "metadata": {
        "colab": {
          "base_uri": "https://localhost:8080/"
        },
        "id": "99chQhvgxY70",
        "outputId": "9b75bce2-68a8-45b8-fcba-65319d34d416"
      },
      "execution_count": 41,
      "outputs": [
        {
          "name": "stdout",
          "output_type": "stream",
          "text": [
            "Введите слова: В лесу родилась ёлочка\n"
          ]
        },
        {
          "output_type": "execute_result",
          "data": {
            "text/plain": [
              "['в', 'лесу', 'родилась', 'ёлочка']"
            ]
          },
          "metadata": {},
          "execution_count": 41
        }
      ]
    }
  ],
  "metadata": {
    "kernelspec": {
      "display_name": "Python 3",
      "language": "python",
      "name": "python3"
    },
    "language_info": {
      "codemirror_mode": {
        "name": "ipython",
        "version": 3
      },
      "file_extension": ".py",
      "mimetype": "text/x-python",
      "name": "python",
      "nbconvert_exporter": "python",
      "pygments_lexer": "ipython3",
      "version": "3.6.5"
    },
    "colab": {
      "name": "2 - seminar2.ipynb",
      "provenance": []
    }
  },
  "nbformat": 4,
  "nbformat_minor": 0
}