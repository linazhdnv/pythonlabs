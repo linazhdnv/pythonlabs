{
  "cells": [
    {
      "cell_type": "markdown",
      "metadata": {
        "id": "OIZga2j8XgII"
      },
      "source": [
        "## Основы программирования в Python\n",
        "\n",
        "*Алла Тамбовцева, НИУ ВШЭ*\n",
        "\n",
        "## Семинар 3"
      ]
    },
    {
      "cell_type": "markdown",
      "metadata": {
        "id": "XldVyjEKXgIM"
      },
      "source": [
        "### Задача 1\n",
        "\n",
        "Напишите программу, которая запрашивает у пользователя его фамилию, имя, отчество, введенные в одну строчку через пробел, и выводит на экран сообщения:\n",
        "\n",
        "    Ваша фамилия: фамилия\n",
        "    Ваше имя: имя\n",
        "    Ваше отчество: отчество\n",
        "\n",
        "**Пример:**\n",
        "\n",
        "*Входные данные:*\n",
        "\n",
        "    Введите Ваши ФИО: Тамбовцева Алла Андреевна\n",
        "\n",
        "*Выходные данные:*\n",
        "\n",
        "    Ваша фамилия: Тамбовцева\n",
        "    Ваше имя: Алла\n",
        "    Ваше отчество: Андреевна"
      ]
    },
    {
      "cell_type": "code",
      "source": [
        "words = input(\"Введите Ваши ФИО: \")\n",
        "word = words.split()\n",
        "print('Ваша фамилия:', word[0])\n",
        "print('Ваше имя:', word[1])\n",
        "print('Ваше отчество:', word[2])"
      ],
      "metadata": {
        "colab": {
          "base_uri": "https://localhost:8080/"
        },
        "id": "kWkVxQD3SgKT",
        "outputId": "84acb2de-dfc4-4f00-8a3e-08e866b61e94"
      },
      "execution_count": 3,
      "outputs": [
        {
          "output_type": "stream",
          "name": "stdout",
          "text": [
            "Введите Ваши ФИО: Жданова Ангелина Павловна\n",
            "Ваша фамилия: Жданова\n",
            "Ваше имя: Ангелина\n",
            "Ваше отчество: Павловна\n"
          ]
        }
      ]
    },
    {
      "cell_type": "markdown",
      "metadata": {
        "id": "aOLsqvQeXgIO"
      },
      "source": [
        "### Задача 2\n",
        "\n",
        "Напишите программу, которая берет строку \"1; 2; 3; 100\" и возвращает:\n",
        "\n",
        "* список из целых чисел\n",
        "* список из чисел с плавающей точкой"
      ]
    },
    {
      "cell_type": "code",
      "source": [
        "numbers = \"1; 2; 3; 100\"\n",
        "number = numbers.split(';')\n",
        "numbera = []\n",
        "\n",
        "for n in number:\n",
        "  numbera.append(int(n))\n",
        "numbera"
      ],
      "metadata": {
        "colab": {
          "base_uri": "https://localhost:8080/"
        },
        "id": "N5yHa2xtaKp4",
        "outputId": "b465af21-47ae-47e2-8c78-321869c66c05"
      },
      "execution_count": 23,
      "outputs": [
        {
          "output_type": "execute_result",
          "data": {
            "text/plain": [
              "[1, 2, 3, 100]"
            ]
          },
          "metadata": {},
          "execution_count": 23
        }
      ]
    },
    {
      "cell_type": "code",
      "source": [
        "numbers = \"1; 2; 3; 100\"\n",
        "number = numbers.split(';')\n",
        "numbera = []\n",
        "\n",
        "for n in number:\n",
        "  numbera.append(float(n))\n",
        "numbera"
      ],
      "metadata": {
        "colab": {
          "base_uri": "https://localhost:8080/"
        },
        "id": "Q7QsiYT4Tooi",
        "outputId": "06a8494b-0a3f-4137-f760-914428c4f4c1"
      },
      "execution_count": 22,
      "outputs": [
        {
          "output_type": "execute_result",
          "data": {
            "text/plain": [
              "[1.0, 2.0, 3.0, 100.0]"
            ]
          },
          "metadata": {},
          "execution_count": 22
        }
      ]
    },
    {
      "cell_type": "markdown",
      "metadata": {
        "id": "GvLDEjzVXgIP"
      },
      "source": [
        "### Задача 3\n",
        "\n",
        "Напишите программу, которая запрашивает у пользователя номер мобильного телефона, введенный через дефис, а возвращает номер, записанный без дефисов и пробелов.\n",
        "\n",
        "*Входные данные:*\n",
        "\n",
        "    8-900-123-45-67\n",
        "\n",
        "*Выходные данные:*\n",
        "\n",
        "    89001234567"
      ]
    },
    {
      "cell_type": "code",
      "source": [
        "numbers = input(\"Введите номер телефона через дефис: \")\n",
        "number = numbers.split('-')\n",
        "result = \"\".join(number)\n",
        "result"
      ],
      "metadata": {
        "colab": {
          "base_uri": "https://localhost:8080/",
          "height": 53
        },
        "id": "02jePX3aaWVZ",
        "outputId": "f66ae41b-1934-41e4-8be6-7bbd38619c03"
      },
      "execution_count": 32,
      "outputs": [
        {
          "name": "stdout",
          "output_type": "stream",
          "text": [
            "Введите номер телефона через дефис: 8-919-523-77-27\n"
          ]
        },
        {
          "output_type": "execute_result",
          "data": {
            "application/vnd.google.colaboratory.intrinsic+json": {
              "type": "string"
            },
            "text/plain": [
              "'89195237727'"
            ]
          },
          "metadata": {},
          "execution_count": 32
        }
      ]
    },
    {
      "cell_type": "markdown",
      "metadata": {
        "id": "Xvee_K6AXgIQ"
      },
      "source": [
        "### Задача 4\n",
        "\n",
        "Напишите программу, которая принимает на вход список L, в котором хранятся значения доходов домохозяйств за месяц, а возвращает новый список L2 ‒ список логарифмированных значений доходов."
      ]
    },
    {
      "cell_type": "code",
      "source": [
        "L = [50000, 1283500, 79520, 30650, 1550000, 850200, 150200, 30000]\n",
        "from math import log\n",
        "L = [50000, 1283500, 79520, 30650, 1550000, 850200, 150200, 30000]\n",
        "L2 = []\n",
        "for i in L:\n",
        "    L2.append(log (i)) \n",
        "L2"
      ],
      "metadata": {
        "colab": {
          "base_uri": "https://localhost:8080/"
        },
        "id": "mTUsBLxGdOnv",
        "outputId": "dccf4526-8f80-44cf-e593-ac517af9d075"
      },
      "execution_count": 38,
      "outputs": [
        {
          "output_type": "execute_result",
          "data": {
            "text/plain": [
              "[10.819778284410283,\n",
              " 14.065101279293332,\n",
              " 11.283763841330456,\n",
              " 10.330387941364357,\n",
              " 14.253765488895429,\n",
              " 13.653226894906826,\n",
              " 11.91972301831217,\n",
              " 10.308952660644293]"
            ]
          },
          "metadata": {},
          "execution_count": 38
        }
      ]
    },
    {
      "cell_type": "markdown",
      "metadata": {
        "id": "xy_hB3PEXgIR"
      },
      "source": [
        "### Задача 5\n",
        "\n",
        "Напишите программу, которая принимает на вход список слов такого вида:\n",
        "\n",
        "    words = [\"Speak \",\"to\", \"me \", \"of\", \"Florence\" ,\"And \", \"of\", \"the\", \"Renaissance\"]\n",
        "\n",
        "а возвращает список\n",
        "\n",
        "    words_clean = [\"speak\", \"to\", \"me\", \"of\", \"florence\", \"and\", \"of\", \"the\", \"renaissance\"]\n",
        "\n",
        "Другими словами, программа убирает пробелы в словах и приводит все слова к нижнему регистру.\n",
        "\n",
        "**Подсказка:** запросите `help()`  по  методам `strip()` и `lower()`."
      ]
    },
    {
      "cell_type": "code",
      "source": [
        "word = [\"Speak \",\"to\", \"me \", \"of\", \"Florence\" ,\"And \", \"of\", \"the\", \"Renaissance\"]\n",
        "worda = [n.strip(\" \") for n in word]\n",
        "word_clean = [n.lower() for n in worda]\n",
        "word_clean"
      ],
      "metadata": {
        "colab": {
          "base_uri": "https://localhost:8080/"
        },
        "id": "YO9ISdwbrxck",
        "outputId": "49893ec1-820b-43f0-df45-bd2326075356"
      },
      "execution_count": 41,
      "outputs": [
        {
          "output_type": "execute_result",
          "data": {
            "text/plain": [
              "['speak', 'to', 'me', 'of', 'florence', 'and', 'of', 'the', 'renaissance']"
            ]
          },
          "metadata": {},
          "execution_count": 41
        }
      ]
    }
  ],
  "metadata": {
    "kernelspec": {
      "display_name": "Python 3",
      "language": "python",
      "name": "python3"
    },
    "language_info": {
      "codemirror_mode": {
        "name": "ipython",
        "version": 3
      },
      "file_extension": ".py",
      "mimetype": "text/x-python",
      "name": "python",
      "nbconvert_exporter": "python",
      "pygments_lexer": "ipython3",
      "version": "3.6.5"
    },
    "colab": {
      "name": "sem-20-04.ipynb",
      "provenance": [],
      "collapsed_sections": []
    }
  },
  "nbformat": 4,
  "nbformat_minor": 0
}