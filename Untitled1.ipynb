{
  "nbformat": 4,
  "nbformat_minor": 0,
  "metadata": {
    "colab": {
      "name": "Untitled1.ipynb",
      "provenance": []
    },
    "kernelspec": {
      "name": "python3",
      "display_name": "Python 3"
    },
    "language_info": {
      "name": "python"
    }
  },
  "cells": [
    {
      "cell_type": "markdown",
      "source": [
        "ЗАДАНИЕ 1"
      ],
      "metadata": {
        "id": "Pn_JtHK644gW"
      }
    },
    {
      "cell_type": "code",
      "source": [
        "n = float(input(\"Введите число: \"))\n",
        "square = n*n\n",
        "square"
      ],
      "metadata": {
        "colab": {
          "base_uri": "https://localhost:8080/"
        },
        "id": "0g-IcM6N46Zu",
        "outputId": "09338d41-0d08-45af-cf69-975b3566a787"
      },
      "execution_count": 5,
      "outputs": [
        {
          "name": "stdout",
          "output_type": "stream",
          "text": [
            "Введите число: 7\n"
          ]
        },
        {
          "output_type": "execute_result",
          "data": {
            "text/plain": [
              "49.0"
            ]
          },
          "metadata": {},
          "execution_count": 5
        }
      ]
    },
    {
      "cell_type": "code",
      "source": [
        "print('Квадрат числа равен: n')"
      ],
      "metadata": {
        "colab": {
          "base_uri": "https://localhost:8080/"
        },
        "id": "Li2lpNI25gkV",
        "outputId": "8339d356-7fe9-4c4b-8552-40bb36672a0f"
      },
      "execution_count": 6,
      "outputs": [
        {
          "output_type": "stream",
          "name": "stdout",
          "text": [
            "Квадрат числа равен: n\n"
          ]
        }
      ]
    },
    {
      "cell_type": "code",
      "source": [
        "print('Квадрат числа равен:', square)"
      ],
      "metadata": {
        "colab": {
          "base_uri": "https://localhost:8080/"
        },
        "id": "d8RJNfmG5sHA",
        "outputId": "5472e6ec-f6f6-4079-a92c-a0346d1c829f"
      },
      "execution_count": 8,
      "outputs": [
        {
          "output_type": "stream",
          "name": "stdout",
          "text": [
            "Квадрат числа равен: 49.0\n"
          ]
        }
      ]
    },
    {
      "cell_type": "markdown",
      "source": [
        "ЗАДАНИЕ 2"
      ],
      "metadata": {
        "id": "NlkJaKnA4EpI"
      }
    },
    {
      "cell_type": "code",
      "execution_count": 1,
      "metadata": {
        "colab": {
          "base_uri": "https://localhost:8080/"
        },
        "id": "LgQAFSk03cvc",
        "outputId": "fe889091-7ef7-486c-e50b-ad29e725e5fa"
      },
      "outputs": [
        {
          "output_type": "stream",
          "name": "stdout",
          "text": [
            "Введите целое число: 7\n",
            "[6, 8]\n"
          ]
        }
      ],
      "source": [
        "n = int(input(\"Введите целое число: \"))\n",
        "a = n-1\n",
        "b = n+1\n",
        "c = [a, b]\n",
        "print(c)"
      ]
    },
    {
      "cell_type": "markdown",
      "source": [
        "ЗАДАНИЕ 3"
      ],
      "metadata": {
        "id": "cmiOr-aY4MYu"
      }
    },
    {
      "cell_type": "code",
      "source": [
        "words = input(\"Введите слова: \")\n",
        "word = words.split()\n",
        "word_clean = [n.lower() for n in word]\n",
        "word_clean"
      ],
      "metadata": {
        "colab": {
          "base_uri": "https://localhost:8080/"
        },
        "id": "t9PqtkHV34-Q",
        "outputId": "708bfca4-abec-4626-c802-84a32addc567"
      },
      "execution_count": 2,
      "outputs": [
        {
          "name": "stdout",
          "output_type": "stream",
          "text": [
            "Введите слова: В лесу родилась ёлочка В лесу она росла\n"
          ]
        },
        {
          "output_type": "execute_result",
          "data": {
            "text/plain": [
              "['в', 'лесу', 'родилась', 'ёлочка', 'в', 'лесу', 'она', 'росла']"
            ]
          },
          "metadata": {},
          "execution_count": 2
        }
      ]
    },
    {
      "cell_type": "markdown",
      "source": [
        "ЗАДАНИЕ 4"
      ],
      "metadata": {
        "id": "w16jRKS-4cAf"
      }
    },
    {
      "cell_type": "code",
      "source": [
        "numbers = input(\"Введите числа: \")\n",
        "number = numbers.split()\n",
        "numbera = []\n",
        "\n",
        "for n in number:\n",
        "  numbera.append(float(n))\n",
        "from math import log\n",
        "L = numbera\n",
        "L1 = []\n",
        "for i in L:\n",
        "    L1.append(log(i)) if i > 0 else L1.append('NONE')\n",
        "for i in L1:\n",
        "    print(i)"
      ],
      "metadata": {
        "colab": {
          "base_uri": "https://localhost:8080/"
        },
        "id": "ureOdhNy4dxt",
        "outputId": "7bd88a47-f41f-4c9d-d566-8dde8dc1645b"
      },
      "execution_count": 3,
      "outputs": [
        {
          "output_type": "stream",
          "name": "stdout",
          "text": [
            "Введите числа: 5 4.2 -3 7 -5.4 0\n",
            "1.6094379124341003\n",
            "1.4350845252893227\n",
            "NONE\n",
            "1.9459101490553132\n",
            "NONE\n",
            "NONE\n"
          ]
        }
      ]
    },
    {
      "cell_type": "markdown",
      "source": [
        "ЗАДАНИЕ 5"
      ],
      "metadata": {
        "id": "RlWpe8wO4yzn"
      }
    },
    {
      "cell_type": "code",
      "source": [
        "a = input(\"Введите имена: \")\n",
        "b = input(\"Введите возрасты: \")\n",
        "ac = a.split()\n",
        "bc = b.split()\n",
        "result = [list(tup) for tup in zip(ac, bc)]\n",
        "print(result) if len(ac) == len(bc) else print('Списки имеют разную длину')"
      ],
      "metadata": {
        "colab": {
          "base_uri": "https://localhost:8080/"
        },
        "id": "HUCdXZcbHkj1",
        "outputId": "ca8e69ea-cf1b-47eb-ec11-66b643163b73"
      },
      "execution_count": 37,
      "outputs": [
        {
          "output_type": "stream",
          "name": "stdout",
          "text": [
            "Введите имена: Аня геля\n",
            "Введите возрасты: 15 45\n",
            "[['Аня', '15'], ['геля', '45']]\n"
          ]
        }
      ]
    },
    {
      "cell_type": "markdown",
      "source": [
        "ЗАДАНИЕ 6"
      ],
      "metadata": {
        "id": "rBsFfy2l41YG"
      }
    },
    {
      "cell_type": "code",
      "source": [
        "numbers = input(\"Введите числа: \")\n",
        "number = numbers.split(',')\n",
        "a = number\n",
        "print(a)\n",
        "a.sort()\n",
        "print(a)"
      ],
      "metadata": {
        "colab": {
          "base_uri": "https://localhost:8080/"
        },
        "id": "VGw6Qrku42m2",
        "outputId": "9e6e51d8-a905-4422-c698-85bda8823912"
      },
      "execution_count": 26,
      "outputs": [
        {
          "output_type": "stream",
          "name": "stdout",
          "text": [
            "Введите числа: 7, 6, 1, 3, 8, 0, -2\n",
            "['7', ' 6', ' 1', ' 3', ' 8', ' 0', ' -2']\n",
            "[' -2', ' 0', ' 1', ' 3', ' 6', ' 8', '7']\n"
          ]
        }
      ]
    }
  ]
}