{
  "cells": [
    {
      "cell_type": "markdown",
      "metadata": {
        "id": "NsdgDgQ25cwN"
      },
      "source": [
        "### Задание 0 (вычислительное)\n",
        "\n",
        "Посчитайте:\n",
        "\n",
        "* $log(25)$, $log(exp(3))$, $log_{10}1000$\n",
        "* $\\pi^3$, $123^4$ \n",
        "* $\\sqrt{459}$"
      ]
    },
    {
      "cell_type": "code",
      "source": [
        "import math\n",
        "x = math.log(25)\n",
        "print (\"log(25)=\",x)\n",
        "y = math.exp(3)\n",
        "y1 = math.log(y)\n",
        "print (\"log(exp(3))=\", y1)\n",
        "z = math.log10(1000)\n",
        "print (\"log10(1000)=\", z)\n",
        "a = math.pi\n",
        "b = math.pow(a, 3)\n",
        "print (\"π^3 =\", b)\n",
        "c= math.pow (123, 4)\n",
        "print (\"123^4=\", c)\n",
        "d = math.sqrt(459)\n",
        "print (\"корень 459=\", d)"
      ],
      "metadata": {
        "colab": {
          "base_uri": "https://localhost:8080/"
        },
        "id": "mggPoB8q7Ahg",
        "outputId": "32f6fe5a-0638-429b-d82f-bf013cf937ac"
      },
      "execution_count": 13,
      "outputs": [
        {
          "output_type": "stream",
          "name": "stdout",
          "text": [
            "log(25)= 3.2188758248682006\n",
            "log(exp(3))= 3.0\n",
            "log10(1000)= 3.0\n",
            "π^3 = 31.006276680299816\n",
            "123^4= 228886641.0\n",
            "корень 459= 21.42428528562855\n"
          ]
        }
      ]
    },
    {
      "cell_type": "markdown",
      "metadata": {
        "id": "LUlkiQpC5cwU"
      },
      "source": [
        "### Задание 1 (стартовое)\n",
        "\n",
        "В переменных `a` и `b` хранятся некоторые числа. Напишите код, который бы менял значения переменных местами. Создавать новые переменные можно. \n",
        "\n",
        "**Пример:**"
      ]
    },
    {
      "cell_type": "code",
      "execution_count": 29,
      "metadata": {
        "id": "AyCKYA4y5cwW"
      },
      "outputs": [],
      "source": [
        "# до\n",
        "a = 10\n",
        "b = 20\n"
      ]
    },
    {
      "cell_type": "code",
      "execution_count": 30,
      "metadata": {
        "colab": {
          "base_uri": "https://localhost:8080/"
        },
        "id": "nD_JUoX95cwY",
        "outputId": "9f560cc9-7c39-4585-f673-ec548811f0e0"
      },
      "outputs": [
        {
          "output_type": "stream",
          "name": "stdout",
          "text": [
            "a= 20 b= 10\n"
          ]
        }
      ],
      "source": [
        "\n",
        "c = a\n",
        "a = b\n",
        "b = c\n",
        "print (\"a=\",a, \"b=\",b)\n"
      ]
    },
    {
      "cell_type": "code",
      "execution_count": 31,
      "metadata": {
        "colab": {
          "base_uri": "https://localhost:8080/"
        },
        "id": "O3YzlDYA5cwZ",
        "outputId": "f3be9c9d-a62a-4a49-f773-668669ffda22"
      },
      "outputs": [
        {
          "output_type": "stream",
          "name": "stdout",
          "text": [
            "a= 20 b= 10\n"
          ]
        }
      ],
      "source": [
        "# после\n",
        "print (\"a=\",a, \"b=\",b)"
      ]
    },
    {
      "cell_type": "markdown",
      "metadata": {
        "id": "4nXQ1C0n5cwa"
      },
      "source": [
        "### Задание 2 (арифметическое)\n",
        "\n",
        "В переменных `a`, `b`, `c` хранятся какие-то числа. Напишите программу, которая считает их среднее арифметическое."
      ]
    },
    {
      "cell_type": "code",
      "execution_count": 27,
      "metadata": {
        "id": "GxRoJ3Os5cwb"
      },
      "outputs": [],
      "source": [
        "a = 1\n",
        "b = 2\n",
        "c = 3"
      ]
    },
    {
      "cell_type": "code",
      "execution_count": 28,
      "metadata": {
        "colab": {
          "base_uri": "https://localhost:8080/"
        },
        "id": "E8UYtozb5cwd",
        "outputId": "d2cbdde3-0444-41f4-fa3b-ef7d1b4b9eba"
      },
      "outputs": [
        {
          "output_type": "stream",
          "name": "stdout",
          "text": [
            "2\n"
          ]
        }
      ],
      "source": [
        "\n",
        "d = a+b+c\n",
        "e = d//3\n",
        "print (e)"
      ]
    },
    {
      "cell_type": "markdown",
      "metadata": {
        "id": "AuuhQN1L5cwe"
      },
      "source": [
        "### Задание 3 (экономическое)\n",
        "\n",
        "Напишите программу, которая логарифмирует значение ВВП, которое хранится в переменной `gdp` и округляет результат до второго знака после запятой."
      ]
    },
    {
      "cell_type": "code",
      "source": [
        "gdp = 1483000000000\n",
        "x = math.log(gdp)\n",
        "y = round(x, 2)\n",
        "print (y)"
      ],
      "metadata": {
        "colab": {
          "base_uri": "https://localhost:8080/"
        },
        "id": "HF6-2zG3CKNy",
        "outputId": "dab9d1da-2901-4432-9905-e607a2a67254"
      },
      "execution_count": 32,
      "outputs": [
        {
          "output_type": "stream",
          "name": "stdout",
          "text": [
            "28.03\n"
          ]
        }
      ]
    },
    {
      "cell_type": "markdown",
      "metadata": {
        "id": "NoA8kuzS5cwf"
      },
      "source": [
        "###  Задание 3 (финансовое)\n",
        "\n",
        "В переменной `salary` хранится значение заработной платы респондента в рублях (можете сами присвоить `salary` какое-нибудь значение).\n",
        "\n",
        "Напишите программу, которая выражает заработную плату респондента в тысячах рублей и\n",
        "\n",
        "a) просто выводит результат перевода в тысячи на экран;\n",
        "\n",
        "б) просто сохраняет результат в переменную `salary_th`;\n",
        "\n",
        "в) сохраняет результат в переменную `salary_th` и выводит результат на экран."
      ]
    },
    {
      "cell_type": "code",
      "source": [
        "salary = 40000\n",
        "x = 40000//1000\n",
        "print (x)"
      ],
      "metadata": {
        "colab": {
          "base_uri": "https://localhost:8080/"
        },
        "id": "aAv8R39ADxoh",
        "outputId": "c4189c3d-28f1-460c-f709-fb7931c3f89e"
      },
      "execution_count": 33,
      "outputs": [
        {
          "output_type": "stream",
          "name": "stdout",
          "text": [
            "40\n"
          ]
        }
      ]
    },
    {
      "cell_type": "code",
      "source": [
        "salary = 40000\n",
        "x = 40000//1000\n",
        "salary_th = x\n"
      ],
      "metadata": {
        "id": "rusaAVQPEIhJ"
      },
      "execution_count": 36,
      "outputs": []
    },
    {
      "cell_type": "code",
      "source": [
        "salary = 40000\n",
        "x = 40000//1000\n",
        "salary_th = x\n",
        "print (salary_th)"
      ],
      "metadata": {
        "colab": {
          "base_uri": "https://localhost:8080/"
        },
        "id": "umUFWyjNEUi5",
        "outputId": "4dbb2994-ba68-4c6d-ba1a-c6422a05118a"
      },
      "execution_count": 37,
      "outputs": [
        {
          "output_type": "stream",
          "name": "stdout",
          "text": [
            "40\n"
          ]
        }
      ]
    },
    {
      "cell_type": "markdown",
      "metadata": {
        "id": "jNQmmuO25cwh"
      },
      "source": [
        "### Задание 4 (политологическое)\n",
        "\n",
        "В переменной `fh` хранится значение индекса политической свободы Freedom House, а в переменной `p`\n",
        "значение индекса Polity IV. Напишите программу, которая будет считать индекс Freedom:\n",
        "\n",
        "$Freedom = 0.4 \\cdot Freedom House + 0.6 \\cdot Polity IV$."
      ]
    },
    {
      "cell_type": "code",
      "source": [
        "fh = 20\n",
        "p = 4\n",
        "x = 0.4 * fh + 0.6 * p\n",
        "print (\"freedom=\", x)"
      ],
      "metadata": {
        "colab": {
          "base_uri": "https://localhost:8080/"
        },
        "id": "-eErUsYvEmVB",
        "outputId": "96388202-9829-4149-ebd7-ff9b21e892f5"
      },
      "execution_count": 40,
      "outputs": [
        {
          "output_type": "stream",
          "name": "stdout",
          "text": [
            "freedom= 10.4\n"
          ]
        }
      ]
    },
    {
      "cell_type": "markdown",
      "metadata": {
        "id": "jwG-tzfp5cwi"
      },
      "source": [
        "### Задание 5 (налоговое)\n",
        "\n",
        "Напишите программу, которая запрашивает у пользователя с клавиатуры\n",
        "изначальное значение заработной платы в рублях и выводит на экран сообщение: \n",
        "\n",
        "    Ваша заработная плата с учетом подоходного налога: n рублей.\n",
        "\n",
        "где `n` ‒ значение заработной платы с учетом подоходного налога (налоговая ставка 13%).\n",
        "\n",
        "Подсказка: для ввода информации с клавиатуры используйте функцию `input()`. Не забудьте учесть, что результат, который вводится через `input()` является строкой, а не числом. Примеры использования `input()` и более подробное знакомство с вводом-выводом в Python – см. [здесь](https://nbviewer.jupyter.org/github/allatambov/Py-programming-3/blob/master/06-04/lecture-input-output.ipynb)."
      ]
    },
    {
      "cell_type": "code",
      "source": [
        "n = int(input(\"Введите вашу заработную плату: \"))\n",
        "x = n*0.87\n",
        "print (\"Ваша заработная плата с учетом подоходного налога=\", x, \"рублей\")"
      ],
      "metadata": {
        "colab": {
          "base_uri": "https://localhost:8080/"
        },
        "id": "m2Q2xyPhG_Z-",
        "outputId": "d55cbac1-5075-4943-b9b1-47a6a027eb93"
      },
      "execution_count": 52,
      "outputs": [
        {
          "output_type": "stream",
          "name": "stdout",
          "text": [
            "Введите вашу заработную плату: 10000\n",
            "Ваша заработная плата с учетом подоходного налога= 8700.0 рублей\n"
          ]
        }
      ]
    },
    {
      "cell_type": "markdown",
      "metadata": {
        "id": "i3Z7WIL75cwj"
      },
      "source": [
        "### Задание 6 (весеннее)\n",
        "\n",
        "С приходом весны питон решил каждый день выползать погреться на солнышко. Однако он знал, что солнце весной довольно активное, и поэтому разработал такую схему: в первый день он греется одну минуту, а в каждый последующий день увеличивает время пребывания на солнце на 3 минуты. Напишите код, который позволит вычислять, сколько минут питон будет тратить на солнечные ванны в некоторый выбранный день.\n",
        "\n",
        "*Внимание:* ваш код должен выводить номер дня и число минут. Использовать циклы нельзя, в задании предполагается многократный запуск ячеек с кодом."
      ]
    },
    {
      "cell_type": "code",
      "source": [
        "n = int(input(\"Введите номер дня: \"))\n",
        "if n < 2:\n",
        "    print (\"Номер дня=\", n, \"Число минут=\", n)\n",
        "if n > 1:\n",
        "    x = 1 + (n-1)*3\n",
        "    print (\"Номер дня=\", n, \"Число минут=\", x)"
      ],
      "metadata": {
        "colab": {
          "base_uri": "https://localhost:8080/"
        },
        "id": "Kh81hdePI0rm",
        "outputId": "23c129fb-edd0-4bf0-b307-3217e07ae176"
      },
      "execution_count": 59,
      "outputs": [
        {
          "output_type": "stream",
          "name": "stdout",
          "text": [
            "Введите номер дня: 5\n",
            "Номер дня= 5 Число минут= 13\n"
          ]
        }
      ]
    },
    {
      "cell_type": "markdown",
      "metadata": {
        "id": "5wfG7EHR5cwk"
      },
      "source": [
        "### Задание 7 (цифровое)\n",
        "\n",
        "Питон выполз на улицу погулять и решил поиграть: просил прохожих назвать какую-нибудь цифру (т.е. ввести ее с клавиатуры) и приписывал эту цифру к цифре, которую назвал предыдущий прохожий. Напишите код, который позволит определить, какое число получится после опроса 4 прохожих, если известно, что первый прохожий назвал цифру 5. \n",
        "Задача не подразумевает использование циклов; запускать код несколько раз / копировать ячейки можно.\n",
        "\n",
        "*Пример-пояснение:* первый назвал цифру 5, второй ‒ цифру 6, третий ‒ 3. Получили число 563.\n",
        "\n",
        "*Подсказка:* для склеивания строк (такая операция называется конкатенацией) в Python используется `+`:"
      ]
    },
    {
      "cell_type": "code",
      "execution_count": 67,
      "metadata": {
        "colab": {
          "base_uri": "https://localhost:8080/"
        },
        "id": "sE5yBOjT5cwl",
        "outputId": "a7e35b02-8626-4d84-d394-fec804914e68"
      },
      "outputs": [
        {
          "output_type": "stream",
          "name": "stdout",
          "text": [
            "Введите цифру 2: 1\n",
            "Введите цифру 3: 2\n",
            "Введите цифру 4: 3\n",
            "5123\n"
          ]
        }
      ],
      "source": [
        "a = '5'\n",
        "b = (input(\"Введите цифру 2: \"))\n",
        "c = (input(\"Введите цифру 3: \"))\n",
        "d = (input(\"Введите цифру 4: \"))\n",
        "print (a+b + c + d)"
      ]
    }
  ],
  "metadata": {
    "kernelspec": {
      "display_name": "Python 3",
      "language": "python",
      "name": "python3"
    },
    "language_info": {
      "codemirror_mode": {
        "name": "ipython",
        "version": 3
      },
      "file_extension": ".py",
      "mimetype": "text/x-python",
      "name": "python",
      "nbconvert_exporter": "python",
      "pygments_lexer": "ipython3",
      "version": "3.6.5"
    },
    "colab": {
      "name": "1 - seminar1.ipynb",
      "provenance": [],
      "collapsed_sections": []
    }
  },
  "nbformat": 4,
  "nbformat_minor": 0
}